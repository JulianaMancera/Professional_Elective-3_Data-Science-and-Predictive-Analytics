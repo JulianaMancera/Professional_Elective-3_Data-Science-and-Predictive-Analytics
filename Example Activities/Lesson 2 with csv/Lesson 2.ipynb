{
 "cells": [
  {
   "cell_type": "markdown",
   "id": "446bfbe3",
   "metadata": {},
   "source": [
    "# Lesson 2 - Core Python Libraries for Data Science"
   ]
  },
  {
   "cell_type": "markdown",
   "id": "199be05e",
   "metadata": {},
   "source": [
    "## Activity 1. NumPy for Numerical Computations"
   ]
  },
  {
   "cell_type": "markdown",
   "id": "ec9ee8a1",
   "metadata": {},
   "source": [
    "**NumPy** is the powerhouse for numerical operations in Python. It enables fast and efficient array manipulation and mathematical operations, much like a high-performance engine in a sports car.\n",
    "\n",
    "**Particular Applications:** <br>\n",
    "> **Scientific Computing:** Used for simulations in physics and engineering. <br>\n",
    "> **Data Aggregation:** Helps in calculating statistics, summations, or aggregating large datasets."
   ]
  },
  {
   "cell_type": "code",
   "execution_count": 2,
   "id": "d58d2490",
   "metadata": {},
   "outputs": [
    {
     "name": "stdout",
     "output_type": "stream",
     "text": [
      "Original Array: [1 2 3 4 5]\n",
      "2x3 Matrix:\n",
      " [[1 2 3]\n",
      " [4 5 6]]\n",
      "Matrix Multiplication Result:\n",
      " [[ 4  4]\n",
      " [10  8]]\n"
     ]
    }
   ],
   "source": [
    "import numpy as np\n",
    "\n",
    "# Create a sample array\n",
    "data = np.array([1, 2, 3, 4, 5])\n",
    "print(\"Original Array:\", data)\n",
    "\n",
    "# Reshape into a 2x3 array (adding one more element for illustration)\n",
    "data_matrix = np.arange(1, 7).reshape(2, 3)\n",
    "print(\"2x3 Matrix:\\n\", data_matrix)\n",
    "\n",
    "# Matrix multiplication example:\n",
    "matrix_a = np.array([[1, 2], [3, 4]])\n",
    "matrix_b = np.array([[2, 0], [1, 2]])\n",
    "result = np.dot(matrix_a, matrix_b)\n",
    "print(\"Matrix Multiplication Result:\\n\", result)\n"
   ]
  },
  {
   "cell_type": "markdown",
   "id": "0242e005",
   "metadata": {},
   "source": [
    "## Activity 2: Pandas for Structured Data Handling"
   ]
  },
  {
   "cell_type": "markdown",
   "id": "17417627",
   "metadata": {},
   "source": [
    "**Pandas** revolutionizes how we work with tabular data. It introduces structured data types—DataFrames and Series—that allow for powerful data manipulation, cleaning, and transformation, similar to a well-organized office file system.\n",
    "\n",
    "**Particular Applications:** <br>\n",
    "> **Data Wrangling:** Loading, cleaning, and structuring data for analysis.\n",
    "> **Data Transformation:** Merging multiple datasets, handling missing values, and formatting data for further tasks."
   ]
  },
  {
   "cell_type": "code",
   "execution_count": 6,
   "id": "11081acf",
   "metadata": {},
   "outputs": [
    {
     "name": "stdout",
     "output_type": "stream",
     "text": [
      "  Category  Sales  Value\n",
      "0        A    100   10.0\n",
      "1        B    150   15.0\n",
      "2        A    110    NaN\n",
      "3        C    200   20.0\n",
      "4        B    160   16.0\n",
      "Average Sales by Category:\n",
      " Category\n",
      "A    105.0\n",
      "B    155.0\n",
      "C    200.0\n",
      "Name: Sales, dtype: float64\n"
     ]
    }
   ],
   "source": [
    "# Create a dummy sample_data.csv file for demonstration if it doesn't exist\n",
    "import os\n",
    "import pandas as pd\n",
    "\n",
    "dummy_data_csv_path = 'sample_data.csv'\n",
    "\n",
    "if not os.path.exists(dummy_data_csv_path):\n",
    "    print(f\"Creating a dummy '{dummy_data_csv_path}' file.\")\n",
    "    dummy_data = {'Category': ['A', 'B', 'A', 'C', 'B'],\n",
    "                  'Sales': [100, 150, 110, 200, 160],\n",
    "                  'Value': [10, 15, None, 20, 16]} # Include a None for fillna\n",
    "    dummy_df_to_save = pd.DataFrame(dummy_data)\n",
    "    dummy_df_to_save.to_csv(dummy_data_csv_path, index=False)\n",
    "\n",
    "# Load a sample CSV into a DataFrame\n",
    "# Now the dummy file should exist if the original was not found\n",
    "try:\n",
    "    df = pd.read_csv('sample_data.csv')\n",
    "except FileNotFoundError:\n",
    "    # This should ideally not happen if the dummy file creation worked\n",
    "    print(\"Error: sample_data.csv not found even after attempting creation.\")\n",
    "\n",
    "\n",
    "# Inspecting the first few rows\n",
    "print(df.head())\n",
    "\n",
    "# Handling missing values\n",
    "# Using method='ffill' requires sorting, or can use fillna(0) or mean()\n",
    "# Let's use fillna(0) for simplicity or ensure 'Value' column exists\n",
    "if 'Value' in df.columns:\n",
    "    df.fillna(0, inplace=True) # Using 0 to fill missing values\n",
    "\n",
    "# Grouping: Compute average sales by category\n",
    "# Check if 'Category' and 'Sales' columns exist\n",
    "if 'Category' in df.columns and 'Sales' in df.columns:\n",
    "    avg_sales = df.groupby('Category')['Sales'].mean()\n",
    "    print(\"Average Sales by Category:\\n\", avg_sales)\n",
    "else:\n",
    "    print(\"Cannot compute average sales by category: Required columns ('Category' or 'Sales') not found.\")\n"
   ]
  },
  {
   "cell_type": "markdown",
   "id": "dd7c2118",
   "metadata": {},
   "source": [
    "## Activity 3: Data Visualization with Matplotlib and Seaborn"
   ]
  },
  {
   "cell_type": "markdown",
   "id": "adba0131",
   "metadata": {},
   "source": [
    "**Matplotlib:** Provides the fundamental graphics foundation with extensive customization options.\n",
    "\n",
    "**Seaborn:** Builds on matplotlib, offering high-level, aesthetically pleasing visualizations that are easier to interpret.\n",
    "\n",
    "**Particular Applications:**\n",
    "\n",
    "> **Trend Analysis:** Creating line charts to show patterns over time. <br>\n",
    "> **Comparative Studies:** Crafting bar charts, scatter plots, and heatmaps for identifying relationships. <br>\n",
    "> **Storytelling:** Turning raw data into visual narratives that communicate findings effectively. <br>"
   ]
  },
  {
   "cell_type": "code",
   "execution_count": 7,
   "id": "3372cb99",
   "metadata": {},
   "outputs": [
    {
     "name": "stdout",
     "output_type": "stream",
     "text": [
      "Cannot plot Sales Over Time: Required columns ('Date' or 'Sales') not found in DataFrame.\n"
     ]
    },
    {
     "data": {
      "image/png": "[encoded data removed]",
      "text/plain": [
       "<Figure size 640x480 with 1 Axes>"
      ]
     },
     "metadata": {},
     "output_type": "display_data"
    },
    {
     "data": {
      "image/png": "[encoded data removed]",
      "text/plain": [
       "<Figure size 640x480 with 2 Axes>"
      ]
     },
     "metadata": {},
     "output_type": "display_data"
    }
   ],
   "source": [
    "import matplotlib.pyplot as plt\n",
    "import seaborn as sns\n",
    "import pandas as pd\n",
    "import numpy as np # Ensure numpy is imported\n",
    "\n",
    "# Assuming df is already loaded from a previous cell\n",
    "\n",
    "# Basic line plot using matplotlib\n",
    "# Add a check for the 'Date' column before plotting\n",
    "if 'Date' in df.columns and 'Sales' in df.columns:\n",
    "    # Ensure the Date column is sorted for a meaningful time series plot\n",
    "    try:\n",
    "        df = df.sort_values('Date')\n",
    "        plt.figure(figsize=(8,4))\n",
    "        plt.plot(df['Date'], df['Sales'], marker='o')\n",
    "        plt.title('Sales Over Time')\n",
    "        plt.xlabel('Date')\n",
    "        plt.ylabel('Sales')\n",
    "        plt.xticks(rotation=45)\n",
    "        plt.tight_layout() # Adjust layout to prevent labels overlapping\n",
    "        plt.show()\n",
    "    except Exception as e:\n",
    "        print(f\"An error occurred during plotting Sales Over Time: {e}\")\n",
    "else:\n",
    "    print(\"Cannot plot Sales Over Time: Required columns ('Date' or 'Sales') not found in DataFrame.\")\n",
    "\n",
    "\n",
    "# Seaborn: Distribution and correlation heatmap\n",
    "# Add a check for the 'Sales' column before plotting distribution\n",
    "if 'Sales' in df.columns:\n",
    "    sns.histplot(df['Sales'], kde=True)\n",
    "    plt.title('Distribution of Sales')\n",
    "    plt.show()\n",
    "else:\n",
    "     print(\"Cannot plot Distribution of Sales: 'Sales' column not found in DataFrame.\")\n",
    "\n",
    "# Check if there are numeric columns before calculating correlation\n",
    "numeric_df = df.select_dtypes(include=np.number)\n",
    "if not numeric_df.empty:\n",
    "    try:\n",
    "        corr = numeric_df.corr()\n",
    "        sns.heatmap(corr, annot=True, cmap='coolwarm')\n",
    "        plt.title('Correlation Heatmap')\n",
    "        plt.show()\n",
    "    except Exception as e:\n",
    "        print(f\"An error occurred during plotting Correlation Heatmap: {e}\")\n",
    "\n",
    "else:\n",
    "    print(\"Cannot plot Correlation Heatmap: No numeric columns found in DataFrame.\")\n"
   ]
  },
  {
   "cell_type": "markdown",
   "id": "0e8c11aa",
   "metadata": {},
   "source": [
    "## Activity 4: Introduction to Machine Learning with Scikit-learn"
   ]
  },
  {
   "cell_type": "markdown",
   "id": "245ed5c3",
   "metadata": {},
   "source": [
    "**Scikit-learn** is user-friendly and robust, offering a wide range of machine learning models and tools. It streamlines everything from data preprocessing to model evaluation and is the Swiss Army knife for machine learning in Python.\n",
    "\n",
    "**Particular Applications:**\n",
    "\n",
    "> **Predictive Modeling:** Building models for regression, classification, or clustering. <br>\n",
    "> **Experimentation:** Quickly trying multiple algorithms and tuning parameters. <br>\n",
    "> **Evaluation:** Assessing model performance through error metrics and cross-validation.\n"
   ]
  },
  {
   "cell_type": "code",
   "execution_count": 19,
   "id": "1871a4dc",
   "metadata": {},
   "outputs": [
    {
     "name": "stdout",
     "output_type": "stream",
     "text": [
      "Mean Squared Error: 0.0\n"
     ]
    }
   ],
   "source": [
    "import pandas as pd\n",
    "\n",
    "# Load your data into a pandas DataFrame\n",
    "# Replace 'data.csv' with the actual path to your data file\n",
    "try:\n",
    "    df = pd.read_csv('sample_data.csv')\n",
    "except FileNotFoundError:\n",
    "    print(\"Error: data.csv not found. Please provide the correct path to your data file.\")\n",
    "    # You might want to exit or handle this error appropriately\n",
    "    # For demonstration, let's create a dummy DataFrame if the file is not found\n",
    "    import numpy as np\n",
    "    print(\"Creating a dummy DataFrame for demonstration.\")\n",
    "    data = {'MarketingSpend': np.random.rand(100) * 1000,\n",
    "            'Sales': np.random.rand(100) * 5000 + 1000}\n",
    "    df = pd.DataFrame(data)\n",
    "\n",
    "\n",
    "from sklearn.model_selection import train_test_split\n",
    "from sklearn.linear_model import LinearRegression\n",
    "from sklearn.metrics import mean_squared_error\n",
    "\n",
    "df = df.dropna()\n",
    "X = df[['Value']]\n",
    "y = df['Sales']\n",
    "\n",
    "# Splitting the dataset\n",
    "X_train, X_test, y_train, y_test = train_test_split(X, y, test_size=0.2, random_state=42)\n",
    "\n",
    "# Train a simple linear regression model\n",
    "model = LinearRegression()\n",
    "model.fit(X_train, y_train)\n",
    "\n",
    "# Predict and evaluate\n",
    "predictions = model.predict(X_test)\n",
    "error = mean_squared_error(y_test, predictions)\n",
    "print(\"Mean Squared Error:\", error)"
   ]
  },
  {
   "cell_type": "markdown",
   "id": "c9fe64b8",
   "metadata": {},
   "source": [
    "## Activity 5: Introduction to NLP with NLTK, spaCy & Hugging Face Transformers"
   ]
  },
  {
   "cell_type": "markdown",
   "id": "d005639a",
   "metadata": {},
   "source": [
    "**NLTK:** Known for its comprehensive language processing and learning resources.\n",
    "\n",
    "**spaCy:** Favored for its speed and advanced features in tagging and entity recognition.\n",
    "\n",
    "**Hugging Face Transformers:** Offers cutting-edge, pre-trained models for deep learning tasks in NLP.\n",
    "\n",
    "**Particular Applications:**\n",
    "\n",
    "> **Text Preprocessing:** Tokenization, stop-word removal, and lemmatization. <br>\n",
    "> **Entity Recognition:** Identifying names, locations, and organizations in texts. <br>\n",
    "> **Sentiment Analysis:** Determining the sentiment behind social media posts, reviews, or any text data. <br>\n",
    "> **Advanced Tasks:** Leveraging Transformer models for machine translation, summarization, or question answering."
   ]
  },
  {
   "cell_type": "code",
   "execution_count": 23,
   "id": "225ebb92",
   "metadata": {},
   "outputs": [
    {
     "name": "stdout",
     "output_type": "stream",
     "text": [
      "Tokens: ['Apple', 'is', 'looking', 'at', 'buying', 'U.K.', 'startup', 'for', '$', '1', 'billion', '.']\n",
      "Entities: [('Apple', 'ORG'), ('U.K.', 'GPE'), ('$1 billion', 'MONEY')]\n"
     ]
    }
   ],
   "source": [
    "# Sample code (Using spaCy):\n",
    "\n",
    "import spacy\n",
    "\n",
    "# Load the small English model for spaCy\n",
    "nlp = spacy.load(\"en_core_web_sm\")\n",
    "text = \"Apple is looking at buying U.K. startup for $1 billion.\"\n",
    "\n",
    "# Process the text\n",
    "doc = nlp(text)\n",
    "print(\"Tokens:\", [token.text for token in doc])\n",
    "print(\"Entities:\", [(ent.text, ent.label_) for ent in doc.ents])"
   ]
  },
  {
   "cell_type": "code",
   "execution_count": 25,
   "id": "5bb4e9e4",
   "metadata": {},
   "outputs": [
    {
     "data": {
      "application/vnd.jupyter.widget-view+json": {
       "model_id": "ef4938c33e1b43099c8e891e631e79d2",
       "version_major": 2,
       "version_minor": 0
      },
      "text/plain": [
       "config.json:   0%|          | 0.00/629 [00:00<?, ?B/s]"
      ]
     },
     "metadata": {},
     "output_type": "display_data"
    },
    {
     "name": "stderr",
     "output_type": "stream",
     "text": [
      "C:\\Users\\juliana\\AppData\\Local\\Packages\\PythonSoftwareFoundation.Python.3.12_qbz5n2kfra8p0\\LocalCache\\local-packages\\Python312\\site-packages\\huggingface_hub\\file_download.py:143: UserWarning: `huggingface_hub` cache-system uses symlinks by default to efficiently store duplicated files but your machine does not support them in C:\\Users\\juliana\\.cache\\huggingface\\hub\\models--distilbert--distilbert-base-uncased-finetuned-sst-2-english. Caching files will still work but in a degraded version that might require more space on your disk. This warning can be disabled by setting the `HF_HUB_DISABLE_SYMLINKS_WARNING` environment variable. For more details, see https://huggingface.co/docs/huggingface_hub/how-to-cache#limitations.\n",
      "To support symlinks on Windows, you either need to activate Developer Mode or to run Python as an administrator. In order to activate developer mode, see this article: https://docs.microsoft.com/en-us/windows/apps/get-started/enable-your-device-for-development\n",
      "  warnings.warn(message)\n",
      "Xet Storage is enabled for this repo, but the 'hf_xet' package is not installed. Falling back to regular HTTP download. For better performance, install the package with: `pip install huggingface_hub[hf_xet]` or `pip install hf_xet`\n"
     ]
    },
    {
     "data": {
      "application/vnd.jupyter.widget-view+json": {
       "model_id": "65cbe664b2cf412492884854c914eb52",
       "version_major": 2,
       "version_minor": 0
      },
      "text/plain": [
       "model.safetensors:   0%|          | 0.00/268M [00:00<?, ?B/s]"
      ]
     },
     "metadata": {},
     "output_type": "display_data"
    },
    {
     "data": {
      "application/vnd.jupyter.widget-view+json": {
       "model_id": "65acdad03996480786bf7f72a87b4fda",
       "version_major": 2,
       "version_minor": 0
      },
      "text/plain": [
       "tokenizer_config.json:   0%|          | 0.00/48.0 [00:00<?, ?B/s]"
      ]
     },
     "metadata": {},
     "output_type": "display_data"
    },
    {
     "data": {
      "application/vnd.jupyter.widget-view+json": {
       "model_id": "8f498732e5504aaba29c94aa12ad6bf4",
       "version_major": 2,
       "version_minor": 0
      },
      "text/plain": [
       "vocab.txt: 0.00B [00:00, ?B/s]"
      ]
     },
     "metadata": {},
     "output_type": "display_data"
    },
    {
     "name": "stderr",
     "output_type": "stream",
     "text": [
      "Device set to use cpu\n"
     ]
    },
    {
     "name": "stdout",
     "output_type": "stream",
     "text": [
      "Sentiment Analysis Result: [{'label': 'POSITIVE', 'score': 0.9998722076416016}]\n"
     ]
    }
   ],
   "source": [
    "# Sample code (Using Transformers):\n",
    "from transformers import pipeline\n",
    "\n",
    "# Specify a model and revision (example using the same default model)\n",
    "\n",
    "model_name = \"distilbert/distilbert-base-uncased-finetuned-sst-2-english\"\n",
    "\n",
    "#DistilBERT is a lightweight, efficient version of BERT that understands English text without caring about uppercase or lowercase letters. It’s fine-tuned on the SST-2 dataset to quickly classify text as positive or negative sentiment.\n",
    "\n",
    "revision = \"714eb0f\" # This is the revision mentioned in your output\n",
    "sentiment_pipeline = pipeline(\"sentiment-analysis\", model=model_name, revision=revision)\n",
    "\n",
    "result = sentiment_pipeline(\"I love the new features in this product!\")\n",
    "print(\"Sentiment Analysis Result:\", result)\n"
   ]
  }
 ],
 "metadata": {
  "kernelspec": {
   "display_name": "Python 3",
   "language": "python",
   "name": "python3"
  },
  "language_info": {
   "codemirror_mode": {
    "name": "ipython",
    "version": 3
   },
   "file_extension": ".py",
   "mimetype": "text/x-python",
   "name": "python",
   "nbconvert_exporter": "python",
   "pygments_lexer": "ipython3",
   "version": "3.12.10"
  }
 },
 "nbformat": 4,
 "nbformat_minor": 5
}
