{
 "cells": [
  {
   "cell_type": "markdown",
   "id": "dee1bbd9",
   "metadata": {},
   "source": [
    "# Lesson 1 - Python Programming Essentials for Data Science"
   ]
  },
  {
   "cell_type": "markdown",
   "id": "4a161d16",
   "metadata": {},
   "source": [
    "## Lab Activity: Python Basics in Jupyter Notebook"
   ]
  },
  {
   "cell_type": "markdown",
   "id": "e19a8258",
   "metadata": {},
   "source": [
    "### Activity 1: Welcome to Python\n",
    "Write and run a simple Python script:\n"
   ]
  },
  {
   "cell_type": "code",
   "execution_count": 1,
   "id": "fab1ebd9",
   "metadata": {},
   "outputs": [
    {
     "name": "stdout",
     "output_type": "stream",
     "text": [
      "Hello, Data Science!\n"
     ]
    }
   ],
   "source": [
    "print(\"Hello, Data Science!\")"
   ]
  },
  {
   "cell_type": "markdown",
   "id": "03ebb3c8",
   "metadata": {},
   "source": [
    "### Activity 2: Variables and Data Types"
   ]
  },
  {
   "cell_type": "code",
   "execution_count": 2,
   "id": "b1e610ae",
   "metadata": {},
   "outputs": [
    {
     "name": "stdout",
     "output_type": "stream",
     "text": [
      "Name: Juliana\n",
      "Age: 22\n",
      "Height: 1.64\n",
      "Is student: True\n"
     ]
    }
   ],
   "source": [
    "name = input(\"Enter your name: \")\n",
    "age = int(input(\"Enter your age: \"))\n",
    "height = float(input(\"Enter your height in meters: \"))\n",
    "is_student = True\n",
    "\n",
    "print(\"Name:\", name)\n",
    "print(\"Age:\", age)\n",
    "print(\"Height:\", height)\n",
    "print(\"Is student:\", is_student)"
   ]
  },
  {
   "cell_type": "markdown",
   "id": "52bddac9",
   "metadata": {},
   "source": [
    "### Activity 3: Decision Making"
   ]
  },
  {
   "cell_type": "code",
   "execution_count": 3,
   "id": "86a377b5",
   "metadata": {},
   "outputs": [
    {
     "name": "stdout",
     "output_type": "stream",
     "text": [
      "Excellent\n"
     ]
    }
   ],
   "source": [
    "score = int(input(\"Enter your test score: \"))\n",
    "if score >= 90:\n",
    "    print(\"Excellent\")\n",
    "elif score >= 75:\n",
    "    print(\"Good job\")\n",
    "else:\n",
    "    print(\"Keep practicing\")"
   ]
  },
  {
   "cell_type": "markdown",
   "id": "5addca2e",
   "metadata": {},
   "source": [
    "### Activity 4: Loops"
   ]
  },
  {
   "cell_type": "code",
   "execution_count": 4,
   "id": "1e3398c6",
   "metadata": {},
   "outputs": [
    {
     "name": "stdout",
     "output_type": "stream",
     "text": [
      "Number: 1\n",
      "Number: 2\n",
      "Number: 3\n",
      "Number: 4\n",
      "Number: 5\n"
     ]
    }
   ],
   "source": [
    "for i in range(1, 6):\n",
    "    print(\"Number:\", i)"
   ]
  },
  {
   "cell_type": "markdown",
   "id": "ea500c2e",
   "metadata": {},
   "source": [
    "### Activity 5: Functions"
   ]
  },
  {
   "cell_type": "code",
   "execution_count": 5,
   "id": "0079c96a",
   "metadata": {},
   "outputs": [
    {
     "name": "stdout",
     "output_type": "stream",
     "text": [
      "Hello, Kai!\n"
     ]
    }
   ],
   "source": [
    "def greet(name):\n",
    "    return \"Hello, \" + name + \"!\"\n",
    "\n",
    "print(greet(\"Kai\"))"
   ]
  }
 ],
 "metadata": {
  "kernelspec": {
   "display_name": "Python 3",
   "language": "python",
   "name": "python3"
  },
  "language_info": {
   "codemirror_mode": {
    "name": "ipython",
    "version": 3
   },
   "file_extension": ".py",
   "mimetype": "text/x-python",
   "name": "python",
   "nbconvert_exporter": "python",
   "pygments_lexer": "ipython3",
   "version": "3.12.10"
  }
 },
 "nbformat": 4,
 "nbformat_minor": 5
}
